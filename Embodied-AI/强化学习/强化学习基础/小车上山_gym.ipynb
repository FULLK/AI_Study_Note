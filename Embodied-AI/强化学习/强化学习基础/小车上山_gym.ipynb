{
 "cells": [
  {
   "cell_type": "code",
   "execution_count": 22,
   "metadata": {},
   "outputs": [
    {
     "name": "stdout",
     "output_type": "stream",
     "text": [
      "观测空间 = Box([-1.2  -0.07], [0.6  0.07], (2,), float32)\n",
      "动作空间 = Discrete(3)\n",
      "观测范围 = [-1.2  -0.07] ~ [0.6  0.07]\n",
      "动作数 = 3\n"
     ]
    }
   ],
   "source": [
    "\n",
    "import gymnasium as gym\n",
    "import numpy as np\n",
    "env = gym.make('MountainCar-v0')\n",
    "print('观测空间 = {}'.format(env.observation_space))\n",
    "print('动作空间 = {}'.format(env.action_space))\n",
    "print('观测范围 = {} ~ {}'.format(env.observation_space.low,\n",
    "        env.observation_space.high))\n",
    "print('动作数 = {}'.format(env.action_space.n))\n"
   ]
  },
  {
   "cell_type": "code",
   "execution_count": 23,
   "metadata": {},
   "outputs": [],
   "source": [
    "class SimpleAgent:\n",
    "    def __init__(self, env):\n",
    "        pass\n",
    "    \n",
    "    def decide(self, observation):\n",
    "        position = observation[0]     # 获取位置\n",
    "        velocity = observation[1]     # 获取速度\n",
    "\n",
    "        lb = np.minimum(-0.09 * (position + 0.25) ** 2 + 0.03,\n",
    "                        0.3 * (position + 0.9) ** 4 - 0.008)\n",
    "        ub = -0.07 * (position + 0.38) ** 2 + 0.07\n",
    "\n",
    "        if lb < velocity < ub:\n",
    "            return 0\n",
    "        else:\n",
    "            return 1\n",
    "    def learn(self, *args): # 学习\n",
    "        pass\n",
    "    \n",
    "agent = SimpleAgent(env)\n"
   ]
  },
  {
   "cell_type": "code",
   "execution_count": 24,
   "metadata": {},
   "outputs": [],
   "source": [
    "def play(env, agent, render=False, train=False):\n",
    "    episode_reward = 0. # 记录回合总奖励，初始值为0\n",
    "    # env.reset() 是 (array([position, velocity]), {}) 的形式\n",
    "    observation, info = env.reset() # 重置游戏环境，开始新回合\n",
    "    while True: # 不断循环，直到回合结束\n",
    "        if render: # 判断是否显示\n",
    "            env.render() # 显示图形界面\n",
    "        action = agent.decide(observation)\n",
    "        next_observation, reward, terminated, truncated, info= env.step(action) # 执行动作\n",
    "        episode_reward += reward # 收集回合奖励\n",
    "        if train: # 判断是否训练智能体\n",
    "            agent.learn(observation, action, reward,terminated,truncated ) # 学习\n",
    "        if terminated or truncated: # 回合结束，跳出循环\n",
    "            break\n",
    "        observation = next_observation\n",
    "    return episode_reward # 返回回合总奖励\n"
   ]
  },
  {
   "cell_type": "code",
   "execution_count": 25,
   "metadata": {},
   "outputs": [
    {
     "name": "stdout",
     "output_type": "stream",
     "text": [
      "回合奖励 = -200.0\n"
     ]
    }
   ],
   "source": [
    "env.reset(seed=3) # 设置随机种子，让结果可复现\n",
    "episode_reward = play(env, agent, render=True)\n",
    "print('回合奖励 = {}'.format(episode_reward))\n",
    "env.close() # 关闭图形界面"
   ]
  },
  {
   "cell_type": "code",
   "execution_count": 26,
   "metadata": {},
   "outputs": [
    {
     "name": "stdout",
     "output_type": "stream",
     "text": [
      "平均回合奖励 = -200.0\n"
     ]
    }
   ],
   "source": [
    "episode_rewards = [play(env, agent) for _ in range(100)]\n",
    "print('平均回合奖励 = {}'.format(np.mean(episode_rewards)))"
   ]
  },
  {
   "cell_type": "markdown",
   "metadata": {},
   "source": [
    "大概流程：env=gym.make(环境名)取出环境，使用 env.reset()初始化环境，使用 env.step(动作)执行一步环境，使用 env.render()显示环境，使用 env.close()关闭环境"
   ]
  }
 ],
 "metadata": {
  "kernelspec": {
   "display_name": "AI_Study",
   "language": "python",
   "name": "python3"
  },
  "language_info": {
   "codemirror_mode": {
    "name": "ipython",
    "version": 3
   },
   "file_extension": ".py",
   "mimetype": "text/x-python",
   "name": "python",
   "nbconvert_exporter": "python",
   "pygments_lexer": "ipython3",
   "version": "3.9.21"
  }
 },
 "nbformat": 4,
 "nbformat_minor": 2
}
